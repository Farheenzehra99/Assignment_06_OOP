{
  "nbformat": 4,
  "nbformat_minor": 0,
  "metadata": {
    "colab": {
      "provenance": [],
      "authorship_tag": "ABX9TyPnEMeHQmZGWoRBSB7snQ2+",
      "include_colab_link": true
    },
    "kernelspec": {
      "name": "python3",
      "display_name": "Python 3"
    },
    "language_info": {
      "name": "python"
    }
  },
  "cells": [
    {
      "cell_type": "markdown",
      "metadata": {
        "id": "view-in-github",
        "colab_type": "text"
      },
      "source": [
        "<a href=\"https://colab.research.google.com/github/Farheenzehra99/Assignment_06_OOP/blob/main/Assignment_06_OOP.ipynb\" target=\"_parent\"><img src=\"https://colab.research.google.com/assets/colab-badge.svg\" alt=\"Open In Colab\"/></a>"
      ]
    },
    {
      "cell_type": "markdown",
      "source": [
        "**Assignment:**  \n",
        "Create a class Student with attributes name and marks. Use the self keyword to initialize these values via a constructor. Add a method display() that prints student details."
      ],
      "metadata": {
        "id": "A1tmR0eyF0iV"
      }
    },
    {
      "cell_type": "code",
      "source": [
        "class Student:\n",
        "    def __init__(self, name, marks):\n",
        "        self.name = name\n",
        "        self.marks = marks\n",
        "\n",
        "    def display(self):\n",
        "        print(f\"Name: {self.name}, Marks: {self.marks}\")\n",
        "\n",
        "    def percentage(self, total_marks=100):\n",
        "        \"\"\"\n",
        "        Calculates percentage based on marks and total_marks.\n",
        "        Default total_marks = 100.\n",
        "        \"\"\"\n",
        "        return (self.marks / total_marks) * 100\n",
        "\n",
        "s1 = Student(\"Farheen\", 92)\n",
        "s1.display()\n",
        "print(f\"Percentage: {s1.percentage():.2f}%\")\n"
      ],
      "metadata": {
        "colab": {
          "base_uri": "https://localhost:8080/"
        },
        "id": "mhsLa4T1GlzV",
        "outputId": "f62b0a09-1685-44bf-d0c3-38101bf00c6e"
      },
      "execution_count": null,
      "outputs": [
        {
          "output_type": "stream",
          "name": "stdout",
          "text": [
            "Name: Farheen, Marks: 92\n",
            "Percentage: 92.00%\n"
          ]
        }
      ]
    },
    {
      "cell_type": "markdown",
      "source": [
        "# **1. Using self**  \n",
        "\n",
        "---\n",
        "\n",
        "\n",
        "##**Line-by-Line Explanation**\n",
        "**i. class Student:** → A class named Student is defined.\n",
        "\n",
        "**ii. def __init__...** → Constructor initializes name and marks when a new object is created.\n",
        "\n",
        "**iii. self.name = name** → Assigns the given name to the object.\n",
        "\n",
        "**iv. self.marks = marks** → Assigns the given marks to the object.\n",
        "\n",
        "**v. def display(self):** → Defines a method to show student details.\n",
        "\n",
        "**vi. print(f\"...\")** → Prints the student's name and marks using formatted output.\n",
        "\n",
        "**vii. def percentage(self, total_marks=100):** → Defines a method to calculate percentage; default total is 100.\n",
        "\n",
        "**viii.** return (self.marks / total_marks) * 100 → Formula to compute percentage.\n",
        "\n",
        "**ix. s1 = Student(\"Farheen\", 25)** → Creates an object s1 with name \"Farheen\" and 25 marks.\n",
        "\n",
        "**x. s1.display()** → Calls display() method to print name and marks.\n",
        "\n",
        "**xi. print(f\"Percentage:...\")** → Calls percentage() method and prints result with 2 decimal places.\n"
      ],
      "metadata": {
        "id": "sGxH5zNkG5k3"
      }
    },
    {
      "cell_type": "markdown",
      "source": [
        "\n",
        "\n",
        "---\n",
        "\n",
        "\n",
        "\n",
        "---\n",
        "\n"
      ],
      "metadata": {
        "id": "mHrZgF9KeJ3R"
      }
    },
    {
      "cell_type": "markdown",
      "source": [
        " **Assignment:**  \n",
        "Create a class Counter that keeps track of how many objects have been created. Use a class variable and a class method with cls to manage and display the count."
      ],
      "metadata": {
        "id": "D5EU_JNsJMS3"
      }
    },
    {
      "cell_type": "code",
      "source": [
        "class Counter:\n",
        "    count = 0  # Class variable to track number of objects\n",
        "\n",
        "    def __init__(self):\n",
        "        Counter.count += 1  # Increment count each time an object is created\n",
        "\n",
        "    @classmethod\n",
        "    def show_count(cls):\n",
        "        print(f\"Total objects created: {cls.count}\")\n",
        "\n",
        "\n",
        "# Example usage\n",
        "obj1 = Counter()\n",
        "obj2 = Counter()\n",
        "obj3 = Counter()\n",
        "\n",
        "Counter.show_count()\n"
      ],
      "metadata": {
        "colab": {
          "base_uri": "https://localhost:8080/"
        },
        "id": "Nj9bgWGTJy4t",
        "outputId": "f1b6668d-a25e-4cf4-f28a-d7c18f63b0b8"
      },
      "execution_count": null,
      "outputs": [
        {
          "output_type": "stream",
          "name": "stdout",
          "text": [
            "Total objects created: 3\n"
          ]
        }
      ]
    },
    {
      "cell_type": "markdown",
      "source": [
        "# **2. Using cls:**   \n",
        "---\n",
        "##**Line-by-Line Explanation**\n",
        "\n",
        "**i.  class Counter:** → Defines a class named Counter.\n",
        "\n",
        "**ii. count = 0:** → A class variable to store the number of objects created.\n",
        "\n",
        "**iii. def __init__(self):** → Constructor that runs when a new object is made.\n",
        "\n",
        "**iv. Counter.count += 1:** → Increments the class variable count by 1 every time an object is created.\n",
        "\n",
        "**v. @classmethod:** → Decorator to define a method that works with the class, not the instance.\n",
        "\n",
        "**vi. def show_count(cls):** → A class method that uses cls to access class-level data.\n",
        "\n",
        "**vii. print(...)** → Prints the total number of objects created.\n",
        "\n",
        "**viii. obj1 = Counter(), obj2 = Counter(), obj3 = Counter()** → Creates 3 objects.\n",
        "\n",
        "**ix. Counter.show_count()** → Calls the class method to display total object count: 3."
      ],
      "metadata": {
        "id": "z9b3rN8JMWIc"
      }
    },
    {
      "cell_type": "markdown",
      "source": [
        "\n",
        "\n",
        "---\n",
        "\n",
        "\n",
        "\n",
        "---\n",
        "\n"
      ],
      "metadata": {
        "id": "Z6h8r3NtePKh"
      }
    },
    {
      "cell_type": "markdown",
      "source": [
        "**Assignment:**  \n",
        "Create a class Car with a public variable brand and a public method start(). Instantiate the class and access both from outside the class."
      ],
      "metadata": {
        "id": "jgTANg1NQ-pp"
      }
    },
    {
      "cell_type": "code",
      "source": [
        "class Car:\n",
        "    def __init__(self, brand):\n",
        "        self.brand = brand  # Public variable\n",
        "\n",
        "    def start(self):\n",
        "        print(f\"{self.brand} car is starting...\")  # Public method\n",
        "\n",
        "\n",
        "# Create an object\n",
        "my_car = Car(\"Toyota\")\n",
        "\n",
        "# Access public variable and method from outside\n",
        "print(\"Car Brand:\", my_car.brand)\n",
        "my_car.start()\n"
      ],
      "metadata": {
        "colab": {
          "base_uri": "https://localhost:8080/"
        },
        "id": "pU5OBPf6RZt3",
        "outputId": "b7484925-4d31-4363-d818-bf35285b44bc"
      },
      "execution_count": null,
      "outputs": [
        {
          "output_type": "stream",
          "name": "stdout",
          "text": [
            "Car Brand: Toyota\n",
            "Toyota car is starting...\n"
          ]
        }
      ]
    },
    {
      "cell_type": "markdown",
      "source": [
        "#**3. Public Variables and Methods**\n",
        "---\n",
        "**Line-by-Line Explanation:**  \n",
        "**i. class Car:** → Defines a class named Car.\n",
        "\n",
        "**ii. def __init__(self, brand):** → Constructor that initializes the brand of the car.\n",
        "\n",
        "**iii. self.brand = brand** → brand is a public variable accessible outside the class.\n",
        "\n",
        "**iv. def start(self):**→ Public method that prints a message indicating the car is starting.\n",
        "\n",
        "**v. my_car = Car(\"Toyota\")** → Creates an object with brand \"Toyota\".\n",
        "\n",
        "**vi. print(my_car.brand)** → Accesses and prints the public variable from outside.\n",
        "\n",
        "**vii. my_car.start()** → Calls the public method from outside to start the car."
      ],
      "metadata": {
        "id": "iyY84__URaaw"
      }
    },
    {
      "cell_type": "markdown",
      "source": [
        "\n",
        "\n",
        "---\n",
        "\n",
        "\n",
        "\n",
        "---\n",
        "\n"
      ],
      "metadata": {
        "id": "wt5d2whaeUPx"
      }
    },
    {
      "cell_type": "markdown",
      "source": [
        "**Assignment:**  \n",
        "Create a class Bank with a class variable bank_name. Add a class method change_bank_name(cls, name) that allows changing the bank name. Show that it affects all instances.\n",
        "\n"
      ],
      "metadata": {
        "id": "XMH6pYtTWAZm"
      }
    },
    {
      "cell_type": "code",
      "source": [
        "class Bank:\n",
        "    bank_name = \"National Bank\"  # Class variable\n",
        "\n",
        "    def __init__(self, holder_name):\n",
        "        self.holder_name = holder_name  # Instance variable (public)\n",
        "\n",
        "    @classmethod\n",
        "    def change_bank_name(cls, name):\n",
        "        cls.bank_name = name  # Change the class variable\n",
        "\n",
        "    def show_details(self):\n",
        "        print(f\"Bank Name: {Bank.bank_name}, Account Holder: {self.holder_name}\")\n",
        "\n",
        "\n",
        "# Create objects\n",
        "customer1 = Bank(\"Ayesha\")\n",
        "customer2 = Bank(\"Hamza\")\n",
        "\n",
        "# Show initial details\n",
        "customer1.show_details()\n",
        "customer2.show_details()\n",
        "\n",
        "# Change bank name using class method\n",
        "Bank.change_bank_name(\"Habib Bank\")\n",
        "\n",
        "# Show updated details\n",
        "customer1.show_details()\n",
        "customer2.show_details()\n"
      ],
      "metadata": {
        "colab": {
          "base_uri": "https://localhost:8080/"
        },
        "id": "8BxvWk10WMFe",
        "outputId": "f674d14a-bb1a-46c6-f0fd-e2821e9d33a1"
      },
      "execution_count": null,
      "outputs": [
        {
          "output_type": "stream",
          "name": "stdout",
          "text": [
            "Bank Name: National Bank, Account Holder: Ayesha\n",
            "Bank Name: National Bank, Account Holder: Hamza\n",
            "Bank Name: Habib Bank, Account Holder: Ayesha\n",
            "Bank Name: Habib Bank, Account Holder: Hamza\n"
          ]
        }
      ]
    },
    {
      "cell_type": "markdown",
      "source": [
        "# **4. Class Variables and Class Methods**\n",
        "---\n",
        "## **Line-by-Line Explanation:**  \n",
        "**i. class Bank:** → Defines the class Bank.\n",
        "\n",
        "**ii. bank_name = \"National Bank\":** → Class variable shared by all bank accounts.\n",
        "\n",
        "**iii. def __init__(self, holder_name):** → Constructor that takes account holder's name.\n",
        "\n",
        "**iv. self.holder_name = holder_name** → Stores the holder's name as a public instance variable.\n",
        "\n",
        "**v. @classmethod** → Used to define a method that works with the class itself.\n",
        "\n",
        "**vi. def change_bank_name(cls, name):** → Updates the bank_name for the whole class.\n",
        "\n",
        "**vii. def show_details(self):** → Instance method to display both the bank name and account holder name.\n",
        "\n",
        "**viii. customer1 = Bank(\"Ayesha\"), customer2 = Bank(\"Hamza\")** → Creates two account holders.\n",
        "\n",
        "**ix. show_details()** → Displays the bank name and holder name.\n",
        "\n",
        "**x. Bank.change_bank_name(...)** → Changes the shared bank_name.\n",
        "\n",
        "**xi. Again, show_details()** → Now shows updated bank name for both holders."
      ],
      "metadata": {
        "id": "2YoYdfSPWMh3"
      }
    },
    {
      "cell_type": "markdown",
      "source": [
        "\n",
        "\n",
        "---\n",
        "\n",
        "\n",
        "\n",
        "---\n",
        "\n"
      ],
      "metadata": {
        "id": "tlL8yhuhemjK"
      }
    },
    {
      "cell_type": "markdown",
      "source": [
        " **Assignment:**  \n",
        "Create a class MathUtils with a static method add(a, b) that returns the sum. No class or instance variables should be used."
      ],
      "metadata": {
        "id": "L5i-FE0WZ1Lm"
      }
    },
    {
      "cell_type": "code",
      "source": [
        "class MathUtils:\n",
        "    @staticmethod\n",
        "    def add(a, b):\n",
        "        return a + b\n",
        "\n",
        "\n",
        "# Example usage\n",
        "result = MathUtils.add(5, 7)\n",
        "print(f\"Sum: {result}\")\n"
      ],
      "metadata": {
        "colab": {
          "base_uri": "https://localhost:8080/"
        },
        "id": "GBm-H1GYarS8",
        "outputId": "5e9d9b79-6d49-4e28-98cc-7f6f41ac3e3b"
      },
      "execution_count": null,
      "outputs": [
        {
          "output_type": "stream",
          "name": "stdout",
          "text": [
            "Sum: 12\n"
          ]
        }
      ]
    },
    {
      "cell_type": "markdown",
      "source": [
        "# **5. Static Variables and Static Methods**\n",
        "---\n",
        "\n",
        "### **Line-by-Line Explanation:**\n",
        "**i. class MathUtils:** → Defines a class named MathUtils.\n",
        "\n",
        "**ii. @staticmethod** → Decorator that defines a static method (no self or cls used).\n",
        "\n",
        "**iii. def add(a, b):** → A static method that takes two numbers.\n",
        "\n",
        "**iv. return a + b** → Returns the sum of a and b.\n",
        "\n",
        "**v. result = MathUtils.add(5, 7)** → Calls the static method directly using the class name.\n",
        "\n",
        "**vi. print(...)** → Prints the result: Sum: 12.\n",
        "\n"
      ],
      "metadata": {
        "id": "6j0eTDava6L8"
      }
    },
    {
      "cell_type": "markdown",
      "source": [
        "\n",
        "\n",
        "---\n",
        "\n",
        "\n",
        "\n",
        "---\n",
        "\n"
      ],
      "metadata": {
        "id": "-vQ0DCgyepdJ"
      }
    },
    {
      "cell_type": "markdown",
      "source": [
        "**Assignment:**   \n",
        "Create a class Logger that prints a message when an object is created (constructor) and another message when it is destroyed (destructor).\n",
        "\n"
      ],
      "metadata": {
        "id": "j6fFIooYb5bL"
      }
    },
    {
      "cell_type": "code",
      "source": [
        "class Logger:\n",
        "    def __init__(self):\n",
        "        print(\"Logger object has been created.\")\n",
        "\n",
        "    def __del__(self):\n",
        "        print(\"Logger object has been destroyed.\")\n",
        "\n",
        "\n",
        "# Example usage\n",
        "log = Logger()\n",
        "\n",
        "# Object will be destroyed automatically when program ends or variable is deleted\n",
        "del log  # Optional: manually trigger destruction\n"
      ],
      "metadata": {
        "colab": {
          "base_uri": "https://localhost:8080/"
        },
        "id": "_FOxPsCIcHVL",
        "outputId": "dedbc2d4-f68e-4c2b-c538-a1ed57d96a66"
      },
      "execution_count": null,
      "outputs": [
        {
          "output_type": "stream",
          "name": "stdout",
          "text": [
            "Logger object has been created.\n",
            "Logger object has been destroyed.\n"
          ]
        }
      ]
    },
    {
      "cell_type": "markdown",
      "source": [
        "# **6. Constructors and Destructors**\n",
        "---\n",
        "\n",
        "## **Line-by-Line Explanation:**\n",
        "**i. class Logger:** → Defines the Logger class.\n",
        "\n",
        "**ii. def __init__(self):** → Constructor runs when object is created.\n",
        "\n",
        "**iii. print(\"...\")** → Displays message: object is created.\n",
        "\n",
        "**iv. def __del__(self):** → Destructor runs when object is destroyed.\n",
        "\n",
        "**v. print(\"...\")** → Displays message: object is destroyed.\n",
        "\n",
        "**vi. log = Logger()** → Creates a Logger object; constructor runs.\n",
        "\n",
        "**vii. del log** → (Optional) Manually deletes the object, triggering the destructor."
      ],
      "metadata": {
        "id": "iVNCEupCcyUa"
      }
    },
    {
      "cell_type": "markdown",
      "source": [
        "\n",
        "\n",
        "---\n",
        "\n",
        "\n",
        "\n",
        "---\n",
        "\n"
      ],
      "metadata": {
        "id": "Zhn2aEjYd-Pj"
      }
    },
    {
      "cell_type": "markdown",
      "source": [
        "**Assignment:**  \n",
        "Create a class Employee with:\n",
        "\n",
        "a public variable name,\n",
        "\n",
        "a protected variable _salary, and\n",
        "\n",
        "a private variable __ssn.\n",
        "\n",
        "Try accessing all three variables from an object of the class and document what happens."
      ],
      "metadata": {
        "id": "lQg0NMRDezDo"
      }
    },
    {
      "cell_type": "code",
      "source": [
        "class Employee:\n",
        "    def __init__(self, name, salary, ssn):\n",
        "        self.name = name        # Public\n",
        "        self._salary = salary   # Protected (convention)\n",
        "        self.__ssn = ssn        # Private (name mangled)\n",
        "\n",
        "    def display(self):\n",
        "        print(\"Name:\", self.name)\n",
        "        print(\"Salary:\", self._salary)\n",
        "        print(\"SSN:\", self.__ssn)\n",
        "\n",
        "# Create an object\n",
        "emp = Employee(\"Ali\", 40000, \"123-45-6789\")\n",
        "\n",
        "# Accessing variables from outside the class\n",
        "print(\"Public Name:\", emp.name)         # Works\n",
        "print(\"Protected Salary:\", emp._salary) # Works (not recommended directly)\n",
        "try:\n",
        "    print(\"Private SSN:\", emp.__ssn)    # Fails\n",
        "except AttributeError as e:\n",
        "    print(\"Private SSN Access Error:\", e)\n",
        "\n",
        "# Accessing private variable using name mangling\n",
        "print(\"Accessing Private SSN via name mangling:\", emp._Employee__ssn)"
      ],
      "metadata": {
        "colab": {
          "base_uri": "https://localhost:8080/"
        },
        "id": "4nbDXd5ZfI8j",
        "outputId": "9db8638e-5869-40c0-ce1e-d659ebb58bc2"
      },
      "execution_count": null,
      "outputs": [
        {
          "output_type": "stream",
          "name": "stdout",
          "text": [
            "Public Name: Ali\n",
            "Protected Salary: 40000\n",
            "Private SSN Access Error: 'Employee' object has no attribute '__ssn'\n",
            "Accessing Private SSN via name mangling: 123-45-6789\n"
          ]
        }
      ]
    },
    {
      "cell_type": "markdown",
      "source": [
        "#**7. Access Modifiers: Public, Private, and Protected**\n",
        "\n",
        "---\n",
        "\n",
        "\n",
        "### **Line-by-Line Eplanation:**\n",
        "**i. self.name** → **Public**\n",
        "\n",
        "*  Can be accessed and modified from outside the class freely.\n",
        "*   emp.name works fine\n",
        "\n",
        "**ii. self._salary** → **Protected** (by convention)\n",
        "\n",
        "* Technically accessible from outside, but meant to be used only within the class\n",
        "or subclasses.\n",
        "\n",
        "* emp._salary works, but should be avoided.\n",
        "\n",
        "**iii. self.__ssn** → **Private**\n",
        "\n",
        "* Cannot be accessed directly from outside due to name mangling.\n",
        "\n",
        "* emp.__ssn raises AttributeError.\n",
        "\n",
        "**iv. emp._Employee__ssn** → ✅\n",
        "\n",
        "* This is how name mangling works internally in Python.\n",
        "\n",
        "* It's possible to access a private variable this way, but it's not recommended for regular use — use getters/setters instead."
      ],
      "metadata": {
        "id": "HbFkoLJqgjng"
      }
    },
    {
      "cell_type": "markdown",
      "source": [
        "\n",
        "\n",
        "---\n",
        "\n",
        "\n",
        "\n",
        "---\n",
        "\n"
      ],
      "metadata": {
        "id": "CL8V8NbLinla"
      }
    },
    {
      "cell_type": "markdown",
      "source": [
        "**Assignment:**  \n",
        "Create a class Person with a constructor that sets the name. Inherit a class Teacher from it, add a subject field, and use super() to call the base class constructor."
      ],
      "metadata": {
        "id": "5HSKNRGVipXy"
      }
    },
    {
      "cell_type": "code",
      "source": [
        "class Person:\n",
        "    def __init__(self, name):\n",
        "        self.name = name  # Set name using constructor\n",
        "        print(f\"Teacher name: {self.name}\")\n",
        "\n",
        "class Teacher(Person):\n",
        "    def __init__(self, name, subject):\n",
        "        super().__init__(name)   # Call base class constructor\n",
        "        self.subject = subject   # Set subject for Teacher\n",
        "\n",
        "    def display(self):\n",
        "        print(f\"Subject: {self.subject}\")\n",
        "\n",
        "\n",
        "# Example usage\n",
        "t1 = Teacher(\"Miss Sara\", \"English\")\n",
        "t1.display()\n"
      ],
      "metadata": {
        "colab": {
          "base_uri": "https://localhost:8080/"
        },
        "id": "eTrNiW6di0DH",
        "outputId": "9fa8791e-52ec-4fda-b4a4-730ad5d0dc9b"
      },
      "execution_count": null,
      "outputs": [
        {
          "output_type": "stream",
          "name": "stdout",
          "text": [
            "Teacher name: Miss Sara\n",
            "Subject: English\n"
          ]
        }
      ]
    },
    {
      "cell_type": "markdown",
      "source": [
        "# **8. The super() Function**\n",
        "\n",
        "---\n",
        "\n",
        "\n",
        "## **Line-by-Line Explanation:**\n",
        "**i. class Person:**→ Defines the base class Person.\n",
        "\n",
        "**ii. def __init__(self, name):**\n",
        "→ Constructor method that runs when a Person object is created.\n",
        "\n",
        "**iii. self.name = name:**\n",
        "→ Stores the name as an instance variable.\n",
        "\n",
        "**iv. print(f\"Teacher name: {self.name}\")**\n",
        "→ Immediately prints the teacher's name when object is created.\n",
        "\n",
        "**v. class Teacher(Person):**\n",
        "→ Defines a class Teacher that inherits from Person.\n",
        "\n",
        "**vi. def __init__(self, name, subject):**\n",
        "→ Constructor of Teacher, takes both name and subject.\n",
        "\n",
        "**vii. super().__init__(name)**\n",
        "→ Calls the constructor of Person to initialize the name.\n",
        "\n",
        "**viii. self.subject = subject**\n",
        "→ Adds a new variable subject to the Teacher class.\n",
        "\n",
        "**ix. def display(self):**\n",
        "→ A method to display the subject the teacher teaches.\n",
        "\n",
        "**x. print(f\"Subject: {self.subject}\")**\n",
        "→ Prints the subject of the teacher.\n",
        "\n",
        "**xi. t1 = Teacher(\"Miss Sara\", \"English\")**\n",
        "→ Creates a Teacher object. Automatically prints the name due to the base constructor.\n",
        "\n",
        "**xii. t1.display()**\n",
        "→ Calls the display() method to print the subject.\n",
        "\n"
      ],
      "metadata": {
        "id": "bvAVn3qck_nI"
      }
    },
    {
      "cell_type": "markdown",
      "source": [
        "\n",
        "\n",
        "---\n",
        "\n",
        "\n",
        "\n",
        "---\n",
        "\n"
      ],
      "metadata": {
        "id": "ZhsM3Nb7mN5_"
      }
    },
    {
      "cell_type": "markdown",
      "source": [
        "**Assignment:**  \n",
        "Use the abc module to create an abstract class Shape with an abstract method area(). Inherit a class Rectangle that implements area()."
      ],
      "metadata": {
        "id": "MP8jFVcOnv9B"
      }
    },
    {
      "cell_type": "code",
      "source": [
        "from abc import ABC, abstractmethod\n",
        "\n",
        "class Shape(ABC):\n",
        "    @abstractmethod\n",
        "    def area(self):\n",
        "        pass\n",
        "\n",
        "class Rectangle(Shape):\n",
        "    def __init__(self, length, width):\n",
        "        self.length = length\n",
        "        self.width = width\n",
        "\n",
        "    def area(self):\n",
        "        return self.length * self.width\n",
        "\n",
        "# Example usage\n",
        "rect = Rectangle(5, 3)\n",
        "print(f\"Area of rectangle: {rect.area()}\")\n"
      ],
      "metadata": {
        "colab": {
          "base_uri": "https://localhost:8080/"
        },
        "id": "P_YtnyJNoKCo",
        "outputId": "4056973a-de43-41e2-f52e-f48da21f22ed"
      },
      "execution_count": null,
      "outputs": [
        {
          "output_type": "stream",
          "name": "stdout",
          "text": [
            "Area of rectangle: 15\n"
          ]
        }
      ]
    },
    {
      "cell_type": "markdown",
      "source": [
        "# **9. Abstract Classes and Methods**\n",
        "\n",
        "---\n",
        "\n",
        "\n",
        "## **Line-by-Line Explanation:**\n",
        "**i. from abc import ABC, abstractmethod**\n",
        "→ Imports the modules needed for creating abstract base classes.\n",
        "\n",
        "**ii. class Shape(ABC):**\n",
        "→ Defines an abstract class Shape that inherits from ABC (Abstract Base Class).\n",
        "\n",
        "**iii. @abstractmethod**\n",
        "→ Marks the area() method as abstract — it must be implemented in child classes.\n",
        "\n",
        "**iv. def area(self): pass**\n",
        "→ Placeholder method; no body here.\n",
        "\n",
        "**v. class Rectangle(Shape):**\n",
        "→ Inherits from Shape and must implement the area() method.\n",
        "\n",
        "**vi. def __init__(self, length, width):**\n",
        "→ Constructor to initialize rectangle dimensions.\n",
        "\n",
        "**vii. self.length = length**\n",
        "→ Stores the length.\n",
        "\n",
        "**viii. self.width = width**\n",
        "→ Stores the width.\n",
        "\n",
        "**ix. def area(self):**\n",
        "→ Concrete implementation of the abstract method area().\n",
        "\n",
        "**x. return self.length * self.width**\n",
        "→ Calculates and returns the area of the rectangle.\n",
        "\n",
        "**xi. rect = Rectangle(5, 3)**\n",
        "→ Creates a Rectangle object with length 5 and width 3.\n",
        "\n",
        "**xii. print(...)**\n",
        "→ Displays: Area of rectangle: 15\n",
        "\n"
      ],
      "metadata": {
        "id": "PALboUtgoiBB"
      }
    },
    {
      "cell_type": "markdown",
      "source": [
        "\n",
        "\n",
        "---\n",
        "\n",
        "\n",
        "\n",
        "---\n",
        "\n"
      ],
      "metadata": {
        "id": "24qAHjHtp0Mb"
      }
    },
    {
      "cell_type": "markdown",
      "source": [
        "**Assignment:**  \n",
        "Create a class Dog with instance variables name and breed. Add an instance method bark() that prints a message including the dog's name.\n"
      ],
      "metadata": {
        "id": "fLmXZHmQp14T"
      }
    },
    {
      "cell_type": "code",
      "source": [
        "class Dog:\n",
        "    def __init__(self, name, breed):\n",
        "        self.name = name        # Set dog's name\n",
        "        self.breed = breed      # Set dog's breed\n",
        "\n",
        "    def bark(self):\n",
        "        print(f\"{self.name} the {self.breed} says: Woof Woof!\")\n",
        "\n",
        "# Example usage\n",
        "dog1 = Dog(\"Tommy\", \"German Shepherd\")\n",
        "dog1.bark()\n",
        "\n",
        "dog2 = Dog(\"Coco\", \"Labrador\")\n",
        "dog2.bark()"
      ],
      "metadata": {
        "colab": {
          "base_uri": "https://localhost:8080/"
        },
        "id": "PMjjAN75p-K7",
        "outputId": "c6f13574-9091-407f-bb47-b9347a6a0999"
      },
      "execution_count": null,
      "outputs": [
        {
          "output_type": "stream",
          "name": "stdout",
          "text": [
            "Tommy the German Shepherd says: Woof Woof!\n",
            "Coco the Labrador says: Woof Woof!\n"
          ]
        }
      ]
    },
    {
      "cell_type": "markdown",
      "source": [
        "# **10. Instance Methods**\n",
        "\n",
        "---\n",
        "###**Line-by-Line Explanation:**\n",
        "\n",
        " **i. Dog:class**\n",
        "→ Defines a class named Dog.\n",
        "\n",
        "**ii. def __init__(self, name, breed):**\n",
        "→ Constructor that takes name and breed as input when creating an object.\n",
        "\n",
        "**iii. self.name = name**\n",
        "→ Stores the dog’s name as an instance variable.\n",
        "\n",
        "**iv. self.breed = breed**\n",
        "→ Stores the dog’s breed as another instance variable.\n",
        "\n",
        "**v. def bark(self):**\n",
        "→ Instance method that makes the dog \"bark\".\n",
        "\n",
        "**vi. print(f\"{self.name} says: Woof Woof!\")**\n",
        "→ Prints a message with the dog's name included.\n",
        "\n",
        "**vii. dog1 = Dog(\"Buddy\", \"Labrador\")**\n",
        "→ Creates a Dog object named “Buddy” of breed “Labrador”.\n",
        "\n",
        "**viii. dog1.bark()**\n",
        "→ Calls the bark() method, which prints: Buddy says: Woof Woof!"
      ],
      "metadata": {
        "id": "VPtqev6K2V6-"
      }
    },
    {
      "cell_type": "markdown",
      "source": [
        "\n",
        "\n",
        "---\n",
        "\n",
        "\n",
        "\n",
        "---\n",
        "\n"
      ],
      "metadata": {
        "id": "xH_z71-63uhC"
      }
    },
    {
      "cell_type": "markdown",
      "source": [
        "**Assignment:**  \n",
        "Create a class Book with a class variable total_books. Add a class method increment_book_count() to increase the count when a new book is added."
      ],
      "metadata": {
        "id": "pV5tRVJQYTJE"
      }
    },
    {
      "cell_type": "code",
      "source": [
        "class Book:\n",
        "    total_books = 0  # Class variable to track total books\n",
        "\n",
        "    def __init__(self, title):\n",
        "        self.title = title\n",
        "        Book.increment_book_count()  # Call class method when book is created\n",
        "\n",
        "    @classmethod\n",
        "    def increment_book_count(cls):\n",
        "        cls.total_books += 1  # Increase total_books count\n",
        "\n",
        "    @classmethod\n",
        "    def display_total_books(cls):\n",
        "        print(f\"Total books: {cls.total_books}\")\n",
        "\n",
        "# Example usage\n",
        "b1 = Book(\"Python Basics\")\n",
        "b2 = Book(\"Data Science Essentials\")\n",
        "Book.display_total_books()\n"
      ],
      "metadata": {
        "colab": {
          "base_uri": "https://localhost:8080/"
        },
        "id": "bNrEetEuYYeS",
        "outputId": "2b7c835e-2473-473f-c0b0-bbd968c3350e"
      },
      "execution_count": 1,
      "outputs": [
        {
          "output_type": "stream",
          "name": "stdout",
          "text": [
            "Total books: 2\n"
          ]
        }
      ]
    },
    {
      "cell_type": "markdown",
      "source": [
        "# **11. Class Methods**\n",
        "\n",
        "---\n",
        "## **Line-by-Line Explanation:**\n",
        "**i. class Book:** → Creates a class named Book.\n",
        "\n",
        "**ii. total_books = 0** → Class variable to count the total number of book instances.\n",
        "\n",
        "**iii. def __init__(self, title):** → Constructor that initializes the book with a title.\n",
        "\n",
        "**iv. self.title = title** → Stores the book's title as an instance variable.\n",
        "\n",
        "**v. Book.increment_book_count()** → Calls the class method to update the total book count each time a book is added.\n",
        "\n",
        "**vi. @classmethod** → Decorator that allows a method to access and modify class variables.\n",
        "\n",
        "**vii. def increment_book_count(cls):** → Increases the total_books by 1 using cls.\n",
        "\n",
        "**viii. def display_total_books(cls):** → Displays how many books have been added in total.\n",
        "\n",
        "**ix. b1 = Book(\"Python Basics\")** → Adds the first book.\n",
        "\n",
        "**x. b2 = Book(\"Data Science Essentials\")** → Adds the second book.\n",
        "\n",
        "**xi. Book.display_total_books()** → Prints: Total books: 2"
      ],
      "metadata": {
        "id": "2F5u7cGBbdIF"
      }
    },
    {
      "cell_type": "markdown",
      "source": [
        "\n",
        "\n",
        "---\n",
        "\n",
        "\n",
        "\n",
        "---\n",
        "\n"
      ],
      "metadata": {
        "id": "EUkRMtU6dh3H"
      }
    },
    {
      "cell_type": "markdown",
      "source": [
        "**Assignment:**  \n",
        "Create a class TemperatureConverter with a static method celsius_to_fahrenheit(c) that returns the Fahrenheit value."
      ],
      "metadata": {
        "id": "4kBIIdxydkjl"
      }
    },
    {
      "cell_type": "code",
      "source": [
        "class TemperatureConverter:\n",
        "    @staticmethod\n",
        "    def celsius_to_fahrenheit(c):\n",
        "        return (c * 9/5) + 32\n",
        "\n",
        "# Example usage\n",
        "temp_c = 35\n",
        "temp_f = TemperatureConverter.celsius_to_fahrenheit(temp_c)\n",
        "print(f\"{temp_c}°C = {temp_f}°F\")\n"
      ],
      "metadata": {
        "colab": {
          "base_uri": "https://localhost:8080/"
        },
        "id": "h5uFLnTTd0Oq",
        "outputId": "5fb3fe38-a27c-47b4-c3db-a689cda4d77d"
      },
      "execution_count": 4,
      "outputs": [
        {
          "output_type": "stream",
          "name": "stdout",
          "text": [
            "35°C = 95.0°F\n"
          ]
        }
      ]
    },
    {
      "cell_type": "markdown",
      "source": [
        "# **12. Static Methods**\n",
        "\n",
        "---\n",
        "\n",
        "## **Line-by-Line Explanation:**\n",
        "**i. class TemperatureConverter:** → Defines a class named TemperatureConverter.\n",
        "\n",
        "**ii. @staticmethod** → Declares that the method does not use self or cls; it's independent of class or instance.\n",
        "\n",
        "**iii. def celsius_to_fahrenheit(c):** → Static method that takes Celsius temperature c as input.\n",
        "\n",
        "**iv. return (c * 9/5) + 32** → Converts Celsius to Fahrenheit using the formula.\n",
        "\n",
        "**v. temp_c = 25** → Stores 25°C as a sample input.\n",
        "\n",
        "**vi. temp_f = TemperatureConverter.celsius_to_fahrenheit(temp_c)**\n",
        "→ Calls the static method to get the equivalent Fahrenheit value.\n",
        "\n",
        "**vii. print(...)** → Displays: 25°C = 77.0°F"
      ],
      "metadata": {
        "id": "9brfB25xeNiY"
      }
    },
    {
      "cell_type": "markdown",
      "source": [
        "\n",
        "\n",
        "---\n",
        "\n",
        "\n",
        "\n",
        "---\n",
        "\n"
      ],
      "metadata": {
        "id": "ZtrV2B0CfK42"
      }
    },
    {
      "cell_type": "markdown",
      "source": [
        "**Assignment:**  \n",
        "Create a class Engine and a class Car. Use composition by passing an Engine object to the Car class during initialization. Access a method of the Engine class via the Car class."
      ],
      "metadata": {
        "id": "DM3PldMTfNPq"
      }
    },
    {
      "cell_type": "code",
      "source": [
        "class Engine:\n",
        "    def start(self):\n",
        "        print(\"Engine started.\")\n",
        "\n",
        "class Car:\n",
        "    def __init__(self, engine):\n",
        "        self.engine = engine  # Composition: Engine object passed into Car\n",
        "\n",
        "    def start_car(self):\n",
        "        print(\"Starting the car...\")\n",
        "        self.engine.start()   # Using Engine's method inside Car\n",
        "\n",
        "# Example usage\n",
        "engine = Engine()\n",
        "car = Car(engine)\n",
        "car.start_car()\n"
      ],
      "metadata": {
        "colab": {
          "base_uri": "https://localhost:8080/"
        },
        "id": "Y5hnO1xmfg_A",
        "outputId": "f0f2ce75-7d04-438a-9db2-27b66b957e78"
      },
      "execution_count": 5,
      "outputs": [
        {
          "output_type": "stream",
          "name": "stdout",
          "text": [
            "Starting the car...\n",
            "Engine started.\n"
          ]
        }
      ]
    },
    {
      "cell_type": "markdown",
      "source": [
        "# **13. Composition**\n",
        "\n",
        "---\n",
        "\n",
        "\n",
        "## **Line-by-Line Explanation:**  \n",
        "**i. class Engine:**\n",
        "→ Defines a separate Engine class.\n",
        "\n",
        "**ii. def start(self):**\n",
        "→ A method that simulates starting the engine.\n",
        "\n",
        "**iii. print(\"Engine started.\")**\n",
        "→ Outputs a message when the engine starts.\n",
        "\n",
        "**iv. class Car:**\n",
        "→ Defines a Car class that will use an Engine object.\n",
        "\n",
        "**v. def __init__(self, engine):**\n",
        "→ Constructor that accepts an Engine object.\n",
        "\n",
        "**vi. self.engine = engine**\n",
        "→ Stores the engine object inside the car (this is composition).\n",
        "\n",
        "**vii. def start_car(self):**\n",
        "→ Method that starts the car.\n",
        "\n",
        "**viii. print(\"Starting the car...\")**\n",
        "→ Prints a message when starting the car.\n",
        "\n",
        "**ix. self.engine.start()**\n",
        "→ Calls the start() method from the Engine class via the Car.\n",
        "\n",
        "**x. engine = Engine()**\n",
        "→ Creates an Engine object.\n",
        "\n",
        "**xi. car = Car(engine)**\n",
        "→ Passes the engine object to the car.\n",
        "\n",
        "**xii. car.start_car()**\n",
        "→ Starts the car, which internally starts the engine."
      ],
      "metadata": {
        "id": "hJAzYwnXfnVk"
      }
    },
    {
      "cell_type": "markdown",
      "source": [
        "\n",
        "\n",
        "---\n",
        "\n",
        "\n",
        "\n",
        "---\n",
        "\n"
      ],
      "metadata": {
        "id": "r-htZJz8hvuK"
      }
    },
    {
      "cell_type": "markdown",
      "source": [
        "**Assignment:**  \n",
        "Create a class Department and a class Employee. Use aggregation by having a Department object store a reference to an Employee object that exists independently of it."
      ],
      "metadata": {
        "id": "C5rbGYZzhxRL"
      }
    },
    {
      "cell_type": "code",
      "source": [
        "class Employee:\n",
        "    def __init__(self, name, position):\n",
        "        self.name = name\n",
        "        self.position = position\n",
        "\n",
        "    def display_employee(self):\n",
        "        print(f\"Employee: {self.name}, Position: {self.position}\")\n",
        "\n",
        "class Department:\n",
        "    def __init__(self, department_name):\n",
        "        self.department_name = department_name\n",
        "        self.employees = []\n",
        "\n",
        "    def add_employee(self, employee):\n",
        "        self.employees.append(employee)\n",
        "\n",
        "    def display_department(self):\n",
        "        print(f\"Department: {self.department_name}\")\n",
        "        for employee in self.employees:\n",
        "            employee.display_employee()\n",
        "\n",
        "emp1 = Employee(\"Farheen\", \"Manager\")\n",
        "emp2 = Employee(\"Measum\", \"Developer\")\n",
        "\n",
        "department = Department(\"IT\")\n",
        "department.add_employee(emp1)\n",
        "department.add_employee(emp2)\n",
        "\n",
        "department.display_department()"
      ],
      "metadata": {
        "colab": {
          "base_uri": "https://localhost:8080/"
        },
        "id": "SNgae-KliRjj",
        "outputId": "1496f2f3-f76e-4323-d820-8afb6e4eeec2"
      },
      "execution_count": 7,
      "outputs": [
        {
          "output_type": "stream",
          "name": "stdout",
          "text": [
            "Department: IT\n",
            "Employee: Farheen, Position: Manager\n",
            "Employee: Measum, Position: Developer\n"
          ]
        }
      ]
    },
    {
      "cell_type": "markdown",
      "source": [
        "# **14. Aggregation**\n",
        "\n",
        "---\n",
        "\n",
        "\n",
        "## **Line-by-Line Explanation:**  \n",
        "**i. class Employee:**\n",
        "→ Defines the Employee class.\n",
        "\n",
        "**ii. def __init__(self, name, position):**\n",
        "→ Constructor initializes the employee's name and position.\n",
        "\n",
        "**iii. self.name = name & self.position = position**\n",
        "→ Store name and position as instance variables.\n",
        "\n",
        "**iv. def display_employee(self):**\n",
        "→ Method to print employee details.\n",
        "\n",
        "**v. class Department:**\n",
        "→ Defines the Department class.\n",
        "\n",
        "**vi. def __init__(self, department_name):**\n",
        "→ Constructor initializes the department name.\n",
        "\n",
        "**vii. self.department_name = department_name**\n",
        "→ Stores department name.\n",
        "\n",
        "**viii. self.employees = []**\n",
        "→ Initializes an empty list to hold employee objects.\n",
        "\n",
        "**ix. def add_employee(self, employee):**\n",
        "→ Adds an employee to the department's list (aggregation).\n",
        "\n",
        "**x. self.employees.append(employee)**\n",
        "→ Appends the given employee object to the list.\n",
        "\n",
        "**xi. def display_department(self):**\n",
        "→ Displays department info and all employees in it.\n",
        "\n",
        "**xii. print(f\"Department: {self.department_name}\")**\n",
        "→ Prints the department name.\n",
        "\n",
        "**xiii. for employee in self.employees:**\n",
        "→ Loops through each employee in the department.\n",
        "\n",
        "**xiv. employee.display_employee()**\n",
        "→ Calls the display_employee() method of each employee.\n",
        "\n",
        "**xv. emp1 = Employee(\"Farheen\", \"Manager\")**\n",
        "→ Creates the first employee.\n",
        "\n",
        "**xvi. emp2 = Employee(\"Measum\", \"Developer\")**\n",
        "→ Creates the second employee.\n",
        "\n",
        "**xvii. department = Department(\"IT\")**\n",
        "→ Creates an IT department.\n",
        "\n",
        "**xviii. department.add_employee(emp1) & add_employee(emp2)**\n",
        "→ Adds both employees to the department.\n",
        "\n",
        "**xix. department.display_department()**\n",
        "→ Displays department and all employee info."
      ],
      "metadata": {
        "id": "tcHnGaRLjWED"
      }
    },
    {
      "cell_type": "markdown",
      "source": [
        "\n",
        "\n",
        "---\n",
        "\n",
        "\n",
        "\n",
        "---\n",
        "\n"
      ],
      "metadata": {
        "id": "-dP2xVBDut1G"
      }
    },
    {
      "cell_type": "markdown",
      "source": [
        "**Assignment:**  \n",
        "Create four classes:\n",
        "\n",
        "A with a method show(),\n",
        "\n",
        "B and C that inherit from A and override show(),\n",
        "\n",
        "D that inherits from both B and C.\n",
        "\n",
        "Create an object of D and call show() to observe MRO."
      ],
      "metadata": {
        "id": "QYY274zvuv8S"
      }
    },
    {
      "cell_type": "code",
      "source": [
        "class A:\n",
        "    def show(self):\n",
        "        print(\"Class A\")\n",
        "\n",
        "class B(A):\n",
        "    def show(self):\n",
        "        print(\"Class B\")\n",
        "\n",
        "class C(A):\n",
        "    def show(self):\n",
        "        print(\"Class C\")\n",
        "\n",
        "class D(B, C):  # Inherits from B and C\n",
        "    pass\n",
        "\n",
        "# Example usage\n",
        "obj = D()\n",
        "obj.show()\n",
        "\n",
        "# Print the MRO for class D\n",
        "print(\"\\nMethod Resolution Order (MRO) for D:\", D.__mro__)\n",
        "\n"
      ],
      "metadata": {
        "colab": {
          "base_uri": "https://localhost:8080/"
        },
        "id": "wawwz1mbwBD1",
        "outputId": "aceebd1c-00c5-4038-961e-ff8a922c3005"
      },
      "execution_count": 9,
      "outputs": [
        {
          "output_type": "stream",
          "name": "stdout",
          "text": [
            "Class B\n",
            "\n",
            "Method Resolution Order (MRO) for D: (<class '__main__.D'>, <class '__main__.B'>, <class '__main__.C'>, <class '__main__.A'>, <class 'object'>)\n"
          ]
        }
      ]
    },
    {
      "cell_type": "markdown",
      "source": [
        "# **15. Method Resolution Order (MRO) and Diamond Inheritance**\n",
        "\n",
        "---\n",
        "\n",
        "## **Line-by-Line Explanation:**  \n",
        "**i. class A:**\n",
        "→ Base class A is created.\n",
        "\n",
        "**ii. def show(self):**\n",
        "→ Method show() prints \"Class A\".\n",
        "\n",
        "**iii. class B(A):**\n",
        "→ Class B inherits from A.\n",
        "\n",
        "**iv. def show(self):**\n",
        "→ Overrides A’s method, now prints \"Class B\".\n",
        "\n",
        "**v. class C(A):**\n",
        "→ Class C also inherits from A.\n",
        "\n",
        "**vi. def show(self):**\n",
        "→ Overrides A’s method, now prints \"Class C\".\n",
        "\n",
        "**vii. class D(B, C):**\n",
        "→ Class D inherits from both B and C (multiple inheritance).\n",
        "\n",
        "**viii. pass**\n",
        "→ No new methods; D uses inherited ones.\n",
        "\n",
        "**ix. obj = D()**\n",
        "→ Creates an object of class D.\n",
        "\n",
        "**x. obj.show()**\n",
        "→ Calls show() using MRO — it prints from Class B (B comes before C in inheritance).\n",
        "\n",
        "**xi. print(D.__mro__)**\n",
        "→ Displays the MRO: shows the order Python looks for methods:\n",
        "(D, B, C, A, object)"
      ],
      "metadata": {
        "id": "iUbQSA1zx6b3"
      }
    },
    {
      "cell_type": "markdown",
      "source": [
        "\n",
        "\n",
        "---\n",
        "\n",
        "\n",
        "\n",
        "---\n",
        "\n"
      ],
      "metadata": {
        "id": "ykx8XR3by5S4"
      }
    },
    {
      "cell_type": "markdown",
      "source": [
        "**Assignment:**   \n",
        "Write a decorator function log_function_call that prints \"Function is being called\" before a function executes. Apply it to a function say_hello()."
      ],
      "metadata": {
        "id": "7QKs-xSYy6rx"
      }
    },
    {
      "cell_type": "code",
      "source": [
        "def log_function_call(func):\n",
        "    def wrapper():\n",
        "        print(\"Function is being called\")\n",
        "        return func()\n",
        "    return wrapper\n",
        "\n",
        "@log_function_call\n",
        "def say_hello():\n",
        "    print(\"Hello!\", \"Python\")\n",
        "\n",
        "# Call the function\n",
        "say_hello()\n"
      ],
      "metadata": {
        "colab": {
          "base_uri": "https://localhost:8080/"
        },
        "id": "fngFS0NEzFj5",
        "outputId": "9b40db55-ab0e-4826-80c6-0a4ba53249de"
      },
      "execution_count": 11,
      "outputs": [
        {
          "output_type": "stream",
          "name": "stdout",
          "text": [
            "Function is being called\n",
            "Hello! Python\n"
          ]
        }
      ]
    },
    {
      "cell_type": "markdown",
      "source": [
        "# **16. Function Decorators**\n",
        "\n",
        "---\n",
        "\n",
        "## **Line-by-Line Explanation:**  \n",
        "**i. def log_function_call(func):**\n",
        "→ Defines the decorator function that takes another function func as argument.\n",
        "\n",
        "**ii. def wrapper():**\n",
        "→ Inner function that wraps the original one.\n",
        "\n",
        "**iii. print(\"Function is being called\")**\n",
        "→ Message printed before calling the original function.\n",
        "\n",
        "**iv. return func()**\n",
        "→ Calls the original function.\n",
        "\n",
        "**v. return wrapper**\n",
        "→ Returns the wrapped function.\n",
        "\n",
        "**vi. @log_function_call**\n",
        "→ Applies the decorator to say_hello() function.\n",
        "\n",
        "**vii. def say_hello():**\n",
        "→ Defines a simple function that prints \"Hello!\".\n",
        "\n",
        "**viii. say_hello()**\n",
        "→ Calls the decorated function. Output:"
      ],
      "metadata": {
        "id": "V8qYQgnfz7FA"
      }
    },
    {
      "cell_type": "markdown",
      "source": [
        "\n",
        "\n",
        "---\n",
        "\n",
        "\n",
        "\n",
        "---\n",
        "\n"
      ],
      "metadata": {
        "id": "QdCmtCEv0wAg"
      }
    },
    {
      "cell_type": "markdown",
      "source": [
        "**Assignment:**   \n",
        "Create a class decorator add_greeting that modifies a class to add a greet() method returning \"Hello from Decorator!\". Apply it to a class Person."
      ],
      "metadata": {
        "id": "fMkRxoGy0xgR"
      }
    },
    {
      "cell_type": "code",
      "source": [
        "def add_greeting(cls):\n",
        "    def greet(self):\n",
        "        return \"Hello from Decorator!\"\n",
        "    cls.greet = greet\n",
        "    return cls\n",
        "\n",
        "@add_greeting\n",
        "class Person:\n",
        "    def __init__(self, name):\n",
        "        self.name = name\n",
        "\n",
        "# Example usage\n",
        "p = Person(\"Ali\")\n",
        "print(p.greet())\n"
      ],
      "metadata": {
        "colab": {
          "base_uri": "https://localhost:8080/"
        },
        "id": "5sOS5rGl0_cX",
        "outputId": "0e2db940-7c2e-41d6-dbb9-65d5f728bad8"
      },
      "execution_count": 12,
      "outputs": [
        {
          "output_type": "stream",
          "name": "stdout",
          "text": [
            "Hello from Decorator!\n"
          ]
        }
      ]
    },
    {
      "cell_type": "markdown",
      "source": [
        "# **17. Class Decorators**\n",
        "\n",
        "---\n",
        "\n",
        "\n",
        "## **Line-by-Line Explanation:**\n",
        "\n",
        "**i. def add_greeting(cls):**\n",
        "→ Defines a class decorator that takes a class as input.\n",
        "\n",
        "**ii. def greet(self):**\n",
        "→ Defines a new method greet() that will be added to the class.\n",
        "\n",
        "**iii. return \"Hello from Decorator!\"**\n",
        "→ This message will be returned by greet() method.\n",
        "\n",
        "**iv. cls.greet = greet**\n",
        "→ Dynamically attaches greet() method to the class.\n",
        "\n",
        "**v. return cls**\n",
        "→ Returns the modified class.\n",
        "\n",
        "**vi. @add_greeting**\n",
        "→ Applies the decorator to the Person class.\n",
        "\n",
        "**vii. class Person:**\n",
        "→ Defines the class Person.\n",
        "\n",
        "**viii. def __init__(self, name):**\n",
        "→ Constructor that initializes the name.\n",
        "\n",
        "**ix. p = Person(\"Ali\")**\n",
        "→ Creates an instance of Person.\n",
        "\n",
        "**x. print(p.greet())**\n",
        "→ Calls the dynamically added greet() method. Output:"
      ],
      "metadata": {
        "id": "iE1n_mC91LK3"
      }
    },
    {
      "cell_type": "markdown",
      "source": [
        "\n",
        "\n",
        "---\n",
        "\n",
        "\n",
        "\n",
        "---\n",
        "\n"
      ],
      "metadata": {
        "id": "JZQMNCJTQJsQ"
      }
    },
    {
      "cell_type": "markdown",
      "source": [
        "**Assignment:**  \n",
        "Create a class Product with a private attribute _price. Use @property to get the price, @price.setter to update it, and @price.deleter to delete it."
      ],
      "metadata": {
        "id": "kIn_fH8X3s3m"
      }
    },
    {
      "cell_type": "code",
      "source": [
        "class Product:\n",
        "    def __init__(self, name, price):\n",
        "        self.name = name\n",
        "        self._price = price  # Private attribute\n",
        "\n",
        "    @property\n",
        "    def price(self):\n",
        "        \"\"\"Getter for price\"\"\"\n",
        "        return self._price\n",
        "\n",
        "    @price.setter\n",
        "    def price(self, value):\n",
        "        \"\"\"Setter for price\"\"\"\n",
        "        if value < 0:\n",
        "            print(\"Price cannot be negative.\")\n",
        "        else:\n",
        "            self._price = value\n",
        "\n",
        "    @price.deleter\n",
        "    def price(self):\n",
        "        \"\"\"Deleter for price\"\"\"\n",
        "        print(f\"Deleting price of {self.name}\")\n",
        "        del self._price\n",
        "\n",
        "# Example usage\n",
        "product = Product(\"Laptop\", 1000)\n",
        "\n",
        "# Get the price using @property\n",
        "print(f\"Price of {product.name}: ${product.price}\")\n",
        "\n",
        "# Update the price using @price.setter\n",
        "product.price = 1200\n",
        "print(f\"Updated price of {product.name}: ${product.price}\")\n",
        "\n",
        "# Try setting a negative price\n",
        "product.price = -500  # Will print an error message\n",
        "\n",
        "# Delete the price using @price.deleter\n",
        "del product.price\n",
        ""
      ],
      "metadata": {
        "colab": {
          "base_uri": "https://localhost:8080/"
        },
        "id": "IWyApRiy4CTm",
        "outputId": "e1bf6b30-93d0-49e8-f391-65bf554f57ce"
      },
      "execution_count": 1,
      "outputs": [
        {
          "output_type": "stream",
          "name": "stdout",
          "text": [
            "Price of Laptop: $1000\n",
            "Updated price of Laptop: $1200\n",
            "Price cannot be negative.\n",
            "Deleting price of Laptop\n"
          ]
        }
      ]
    },
    {
      "cell_type": "markdown",
      "source": [
        "# **18. Property Decorators: @property, @setter, and @deleter**\n",
        "\n",
        "---\n",
        "\n",
        "\n",
        "## **Line-by-Line Explanation:**  \n",
        "**i. class Product:**\n",
        "→ A class named Product is declared.\n",
        "\n",
        "**ii. def __init__(self, name, price):**\n",
        "→ Constructor method that sets initial values for name and price.\n",
        "\n",
        "**iii. self.name = name**\n",
        "→ Assigns the value of name to the instance variable self.name.\n",
        "\n",
        "**iv. self._price = price**\n",
        "→ Stores the price in a \"private\" variable _price (by convention, underscore means internal use).\n",
        "\n",
        "**v. @property**\n",
        "→ This makes the price() method act like an attribute when accessed.\n",
        "\n",
        "**vi. def price(self):**\n",
        "→ Defines a getter method to return the value of _price.\n",
        "\n",
        "**vii. return self._price**\n",
        "→ Returns the current price stored in _price.\n",
        "\n",
        "**viii. @price.setter**\n",
        "→ Allows us to set the price using product.price = value.\n",
        "\n",
        "**ix. def price(self, value):**\n",
        "→ Defines the setter logic.\n",
        "\n",
        "**x. if value < 0:**\n",
        "→ Checks if the given price is negative.\n",
        "\n",
        "**xi. print(\"Price cannot be negative.\")**\n",
        "→ Shows an error message if value is invalid.\n",
        "\n",
        "**xii. else:**\n",
        "→ If price is valid...\n",
        "\n",
        "**xiii. self._price = value**\n",
        "→ It updates the _price variable with the new value.\n",
        "\n",
        "**xiv. @price.deleter**\n",
        "→ Lets us delete the price using del product.price.\n",
        "\n",
        "**xv. def price(self):**\n",
        "→ Defines the delete logic.\n",
        "\n",
        "**xvi. print(f\"Deleting price of {self.name}\")**\n",
        "→ Shows a message before deleting price.\n",
        "\n",
        "**xvii. del self._price**\n",
        "→ Deletes the _price attribute from the object.\n",
        "\n",
        "**xviii. product = Product(\"Laptop\", 1000)**\n",
        "→ Creates an object of the class with name \"Laptop\" and price 1000.\n",
        "\n",
        "**xix. print(f\"Price of {product.name}: ${product.price}\")**\n",
        "→ Uses the getter to access and print the price.\n",
        "\n",
        "**xx. product.price = 1200**\n",
        "→ Uses the setter to change the price to 1200.\n",
        "\n",
        "**xxi. print(f\"Updated price of {product.name}: ${product.price}\")**\n",
        "→ Prints the updated price.\n",
        "\n",
        "**xxii. product.price = -500**\n",
        "→ Tries to set a negative price — this triggers the error message.\n",
        "\n",
        "**xxiii. del product.price**\n",
        "→ Deletes the _price using the deleter method."
      ],
      "metadata": {
        "id": "mvFjRnZRL9Q3"
      }
    },
    {
      "cell_type": "markdown",
      "source": [
        "\n",
        "\n",
        "---\n",
        "\n",
        "\n",
        "\n",
        "---\n",
        "\n"
      ],
      "metadata": {
        "id": "CeY7owS7OfKP"
      }
    },
    {
      "cell_type": "markdown",
      "source": [
        "**Assignment:**  \n",
        "Create a class Multiplier with an __init__() to set a factor. Define a __call__() method that multiplies an input by the factor. Test it with callable() and by calling the object like a function."
      ],
      "metadata": {
        "id": "_OU1MxpBOgkG"
      }
    },
    {
      "cell_type": "code",
      "source": [
        "class Multiplier:\n",
        "    def __init__(self, factor):\n",
        "        self.factor = factor  # Store the multiplication factor\n",
        "\n",
        "    def __call__(self, number):\n",
        "        return number * self.factor  # Multiply input number by factor\n",
        "\n",
        "\n",
        "# Example usage\n",
        "times_three = Multiplier(3)  # Create object with factor 3\n",
        "\n",
        "# Check if object is callable\n",
        "print(\"Is callable?\", callable(times_three))  # True\n",
        "\n",
        "# Use object like a function\n",
        "result = times_three(10)  # Calls __call__(), returns 30\n",
        "print(\"Result:\", result)\n"
      ],
      "metadata": {
        "colab": {
          "base_uri": "https://localhost:8080/"
        },
        "id": "FFyHxpyzOz4o",
        "outputId": "2d13286a-0561-4222-e33f-49c63fc7f5e3"
      },
      "execution_count": 2,
      "outputs": [
        {
          "output_type": "stream",
          "name": "stdout",
          "text": [
            "Is callable? True\n",
            "Result: 30\n"
          ]
        }
      ]
    },
    {
      "cell_type": "markdown",
      "source": [
        "# **19. callable() and __call__()**\n",
        "\n",
        "---\n",
        "\n",
        "\n",
        "## **Line-by-Line Explanation:**\n",
        "**i. class Multiplier:**\n",
        "→ A class named Multiplier is defined.\n",
        "\n",
        "**ii. def __init__(self, factor):**\n",
        "→ Constructor to initialize the object with a multiplication factor.\n",
        "\n",
        "**iii. self.factor = factor**\n",
        "→ Stores the passed factor value as an instance variable.\n",
        "\n",
        "**iv. def __call__(self, number):**\n",
        "→ The special __call__ method allows the object to be used like a function.\n",
        "\n",
        "**v. return number * self.factor**\n",
        "→ Multiplies the input number by the stored factor and returns the result.\n",
        "\n",
        "**vi. times_three = Multiplier(3)**\n",
        "→ Creates a Multiplier object with a factor of 3.\n",
        "\n",
        "**vii. print(\"Is callable?\", callable(times_three))**\n",
        "→ Checks if the object can be called like a function (returns True).\n",
        "\n",
        "**viii. result = times_three(10)**\n",
        "→ Calls the object like a function, which triggers __call__() and returns 10 * 3 = 30.\n",
        "\n",
        "**ix. print(\"Result:\", result)**\n",
        "→ Prints the final result (30)."
      ],
      "metadata": {
        "id": "WHrtKA_pPgT_"
      }
    },
    {
      "cell_type": "markdown",
      "source": [
        "\n",
        "\n",
        "---\n",
        "\n",
        "\n",
        "\n",
        "---\n",
        "\n"
      ],
      "metadata": {
        "id": "Skr0uT1QRPlx"
      }
    },
    {
      "cell_type": "markdown",
      "source": [
        "**Assignment:**   \n",
        "Create a custom exception InvalidAgeError. Write a function check_age(age) that raises this exception if age < 18. Handle it with try...except."
      ],
      "metadata": {
        "id": "UXX9WtoLRQ_l"
      }
    },
    {
      "cell_type": "code",
      "source": [
        "# Custom Exception\n",
        "class InvalidAgeError(Exception):\n",
        "    pass  # No special behavior, just a named exception\n",
        "\n",
        "# Function to check age\n",
        "def check_age(age):\n",
        "    if age < 18:\n",
        "        raise InvalidAgeError(\"Age must be at least 18.\")  # Raise if condition is not met\n",
        "    else:\n",
        "        print(\"Age is valid.\")\n",
        "\n",
        "# Example usage with exception handling\n",
        "try:\n",
        "    check_age(16)  # Will raise exception\n",
        "except InvalidAgeError as e:\n",
        "    print(\"Caught an exception:\", e)\n",
        "check_age(20)"
      ],
      "metadata": {
        "colab": {
          "base_uri": "https://localhost:8080/"
        },
        "id": "89J1up1FRriN",
        "outputId": "dd085bb0-ef8b-4254-cfa9-213c28f3539c"
      },
      "execution_count": 5,
      "outputs": [
        {
          "output_type": "stream",
          "name": "stdout",
          "text": [
            "Caught an exception: Age must be at least 18.\n",
            "Age is valid.\n"
          ]
        }
      ]
    },
    {
      "cell_type": "markdown",
      "source": [
        "# **20. Creating a Custom Exception**\n",
        "\n",
        "---\n",
        "\n",
        "\n",
        "## **Line-by-Line Explanation:**\n",
        "**i. class InvalidAgeError(Exception):**\n",
        "→ A new custom exception class is created, inheriting from Python’s built-in Exception.\n",
        "\n",
        "**ii. pass**\n",
        "→ No extra functionality is added; it just gives the exception a name.\n",
        "\n",
        "**iii. def check_age(age):**\n",
        "→ Defines a function that checks if the given age is valid.\n",
        "\n",
        "**iv. f age < 18:**\n",
        "→ If the age is less than 18, it's considered invalid.\n",
        "\n",
        "**v. raise InvalidAgeError(\"Age must be at least 18.\")**\n",
        "→ Raises the custom exception with a helpful message.\n",
        "\n",
        "**vi. else:**\n",
        "→ If age is 18 or more...\n",
        "\n",
        "**vii. print(\"Age is valid.\")**\n",
        "→ Prints that the age is acceptable.\n",
        "\n",
        "**viii. try:**\n",
        "→ Start a block to test and catch exceptions.\n",
        "\n",
        "**ix. check_age(16)**\n",
        "→ Calls the function with age 16, which is less than 18, so it raises an exception.\n",
        "\n",
        "**x. except InvalidAgeError as e:**\n",
        "→ Catches the specific InvalidAgeError.\n",
        "\n",
        "**xi. print(\"Caught an exception:\", e)**\n",
        "→ Prints the error message: \"Age must be at least 18.\"\n",
        "\n"
      ],
      "metadata": {
        "id": "1TK5YTLBS77u"
      }
    },
    {
      "cell_type": "markdown",
      "source": [
        "\n",
        "\n",
        "---\n",
        "\n",
        "\n",
        "\n",
        "---\n",
        "\n"
      ],
      "metadata": {
        "id": "YjS3huQST1rF"
      }
    },
    {
      "cell_type": "markdown",
      "source": [
        "**Assignment:**   \n",
        "Create a class Countdown that takes a start number. Implement __iter__() and __next__() to make the object iterable in a for-loop, counting down to 0."
      ],
      "metadata": {
        "id": "xD6s5NuKT332"
      }
    },
    {
      "cell_type": "code",
      "source": [
        "class Countdown:\n",
        "    def __init__(self, start):\n",
        "        self.current = start  # Set starting number\n",
        "\n",
        "    def __iter__(self):\n",
        "        return self  # The object itself is the iterator\n",
        "\n",
        "    def __next__(self):\n",
        "        if self.current < 0:\n",
        "            raise StopIteration  # Stop when we go below 0\n",
        "        value = self.current\n",
        "        self.current -= 1  # Decrease count\n",
        "        return value\n",
        "\n",
        "# Example usage\n",
        "for num in Countdown(10):\n",
        "    print(num)\n"
      ],
      "metadata": {
        "colab": {
          "base_uri": "https://localhost:8080/"
        },
        "id": "rzKIF_drUArm",
        "outputId": "21881957-1052-493c-b943-d8d63272b1fd"
      },
      "execution_count": 7,
      "outputs": [
        {
          "output_type": "stream",
          "name": "stdout",
          "text": [
            "10\n",
            "9\n",
            "8\n",
            "7\n",
            "6\n",
            "5\n",
            "4\n",
            "3\n",
            "2\n",
            "1\n",
            "0\n"
          ]
        }
      ]
    },
    {
      "cell_type": "markdown",
      "source": [
        "# **21. Make a Custom Class Iterable**\n",
        "\n",
        "---\n",
        "\n",
        "\n",
        "## **Line-by-Line Explanation:**\n",
        "**i. class Countdown:**\n",
        "→ Defines a class named Countdown.\n",
        "\n",
        "**ii. def __init__(self, start):**\n",
        "→ Constructor that receives a starting number.\n",
        "\n",
        "**iii. self.current = start**\n",
        "→ Initializes self.current with the given start value.\n",
        "\n",
        "**iv. def __iter__(self):**\n",
        "→ Returns the iterator object itself so it can be used in a loop.\n",
        "\n",
        "**v. return self**\n",
        "→ Makes the object itself an iterator.\n",
        "\n",
        "**vi. def __next__(self):**\n",
        "→ Defines what happens on each iteration.\n",
        "\n",
        "**vii. if self.current < 0:**\n",
        "→ If the current number is less than 0, the loop ends.\n",
        "\n",
        "**viii. raise StopIteration**\n",
        "→ Signals the end of iteration.\n",
        "\n",
        "**ix. value = self.current**\n",
        "→ Stores the current value before decrementing.\n",
        "\n",
        "**x. self.current -= 1**\n",
        "→ Decreases the counter by 1.\n",
        "\n",
        "**xi. return value**\n",
        "→ Returns the current value for this iteration step.\n",
        "\n",
        "**xii. for num in Countdown(5):**\n",
        "→ Creates a Countdown object starting from 5 and loops through it.\n",
        "\n",
        "**xiii. print(num)**\n",
        "→ Prints each number down to 0.\n",
        "\n"
      ],
      "metadata": {
        "id": "n_uqwQdLU43G"
      }
    }
  ]
}